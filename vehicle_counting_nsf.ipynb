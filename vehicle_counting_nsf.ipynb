{
  "nbformat": 4,
  "nbformat_minor": 0,
  "metadata": {
    "accelerator": "GPU",
    "colab": {
      "name": "119",
      "provenance": []
    },
    "kernelspec": {
      "display_name": "Python 3",
      "name": "python3"
    },
    "language_info": {
      "name": "python"
    }
  },
  "cells": [
    {
      "cell_type": "code",
      "metadata": {
        "id": "WpCCYup-dF01"
      },
      "source": [
        "%cd ../yolov5-deepsort\n",
        "!pip3 install -r requirements.txt"
      ],
      "execution_count": null,
      "outputs": []
    },
    {
      "cell_type": "code",
      "metadata": {
        "id": "b_ZkQ8faex1b"
      },
      "source": [
        "!python3 counting.py"
      ],
      "execution_count": null,
      "outputs": []
    }
  ]
}